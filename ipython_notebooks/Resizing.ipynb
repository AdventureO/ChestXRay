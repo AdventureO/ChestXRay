{
 "cells": [
  {
   "cell_type": "code",
   "execution_count": 10,
   "metadata": {
    "collapsed": true
   },
   "outputs": [],
   "source": [
    "import pandas as pd\n",
    "import numpy as np\n",
    "import matplotlib.pyplot as plt\n",
    "import sys\n",
    "import os\n",
    "from PIL import Image\n",
    "from tqdm import tqdm\n",
    "%matplotlib inline\n"
   ]
  },
  {
   "cell_type": "code",
   "execution_count": 14,
   "metadata": {},
   "outputs": [
    {
     "name": "stderr",
     "output_type": "stream",
     "text": [
      "\n",
      "\n",
      "\r",
      "  0%|          | 0/4 [00:00<?, ?it/s]"
     ]
    },
    {
     "name": "stdout",
     "output_type": "stream",
     "text": [
      "starting....\n",
      "Colecting data from /home/bohdan/xray_project/dataset_simul \n"
     ]
    },
    {
     "name": "stderr",
     "output_type": "stream",
     "text": [
      "\u001b[A\u001b[A\n",
      "\n",
      " 25%|██▌       | 1/4 [00:00<00:02,  1.38it/s]\u001b[A\u001b[A\n",
      "\n",
      " 50%|█████     | 2/4 [00:01<00:01,  1.42it/s]\u001b[A\u001b[A\n",
      "\n",
      " 75%|███████▌  | 3/4 [00:02<00:00,  1.24it/s]\u001b[A\u001b[A\n",
      "\n",
      "100%|██████████| 4/4 [00:03<00:00,  1.15it/s]\u001b[A\u001b[A\n",
      "\n",
      "\u001b[A\u001b[A"
     ]
    }
   ],
   "source": [
    "# RESIZING\n",
    "def readf(new_img_size, source_folder, output_folder):\n",
    "    try:\n",
    "        input_dir  = source_folder.rstrip('/')  # path to img source folder\n",
    "        img_size   = str(new_img_size)  # The image size (128, 256,etc)\n",
    "        output_dir  = output_folder.rstrip('/') # output directory\n",
    "        print(\"starting....\")\n",
    "        print (\"Colecting data from %s \" % input_dir)\n",
    "        tclass = [ d for d in os.listdir( input_dir ) ]\n",
    "        counter = 0\n",
    "        strdc = ''\n",
    "        hasil = []\n",
    "        for x in tqdm(tclass):\n",
    "            list_dir =  os.path.join(input_dir, x )\n",
    "            list_tuj = os.path.join(output_dir+'/', x+'/')\n",
    "#             print()\n",
    "            if not os.path.exists(list_tuj):\n",
    "                os.makedirs(list_tuj)\n",
    "            if os.path.exists(list_tuj):\n",
    "                for d in os.listdir(list_dir):\n",
    "#                     try:\n",
    "                    img = Image.open(os.path.join(input_dir+'/'+x,d))\n",
    "                    img = img.resize((int(img_size),int(img_size)),Image.ANTIALIAS)\n",
    "                    fname,extension = os.path.splitext(d)\n",
    "                    newfile = fname+extension\n",
    "                    if extension != \".png\" :\n",
    "                        newfile = fname + \".png\"\n",
    "                    img.save(os.path.join(output_dir+'/'+x,newfile),\"PNG\",quality=90)\n",
    "#                     print (\"Resizing file : %s - %s \" % (x,d))\n",
    "#                     except Exception,e:\n",
    "#                         print (\"Error resize file : %s - %s \" % (x,d))\n",
    "#                         sys.exit(1)\n",
    "                counter +=1\n",
    "    except Exception,e:\n",
    "        print(\"Error, check Input directory etc : \", e)\n",
    "        sys.exit(1)\n",
    "readf(64, '/home/bohdan/xray_project/dataset_simul/', '/home/bohdan/xray_project/result/')"
   ]
  },
  {
   "cell_type": "code",
   "execution_count": 1,
   "metadata": {
    "collapsed": true
   },
   "outputs": [],
   "source": []
  },
  {
   "cell_type": "code",
   "execution_count": null,
   "metadata": {
    "collapsed": true
   },
   "outputs": [],
   "source": []
  }
 ],
 "metadata": {
  "kernelspec": {
   "display_name": "Python 2",
   "language": "python",
   "name": "python2"
  },
  "language_info": {
   "codemirror_mode": {
    "name": "ipython",
    "version": 2
   },
   "file_extension": ".py",
   "mimetype": "text/x-python",
   "name": "python",
   "nbconvert_exporter": "python",
   "pygments_lexer": "ipython2",
   "version": "2.7.13"
  }
 },
 "nbformat": 4,
 "nbformat_minor": 2
}
