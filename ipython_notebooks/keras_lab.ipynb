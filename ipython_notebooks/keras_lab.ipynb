{
 "cells": [
  {
   "cell_type": "code",
   "execution_count": 1,
   "metadata": {},
   "outputs": [
    {
     "name": "stderr",
     "output_type": "stream",
     "text": [
      "Using TensorFlow backend.\n"
     ]
    }
   ],
   "source": [
    "import numpy\n",
    "from keras.datasets import cifar10\n",
    "from keras.models import Sequential\n",
    "from keras.layers import Dense\n",
    "from keras.layers import Dropout\n",
    "from keras.layers import Flatten\n",
    "from keras.constraints import maxnorm\n",
    "from keras.optimizers import SGD\n",
    "from keras.layers.convolutional import Conv2D\n",
    "\n",
    "from keras.layers.convolutional import MaxPooling2D, MaxPooling3D\n",
    "from keras.layers import AveragePooling2D\n",
    "from keras.utils import np_utils\n",
    "from keras.optimizers import Adam\n",
    "from keras import backend as K\n",
    "from keras.preprocessing.image import ImageDataGenerator\n",
    "from keras import backend as K\n",
    "from keras.utils.np_utils import to_categorical\n",
    "\n",
    "K.set_image_dim_ordering('tf')\n",
    "seed = 7\n",
    "numpy.random.seed(seed)"
   ]
  },
  {
   "cell_type": "code",
   "execution_count": 17,
   "metadata": {
    "collapsed": true
   },
   "outputs": [],
   "source": [
    "def net_builder(num_classes,input_shape):\n",
    "    \"\"\"\n",
    "    Returns convolutional net.\n",
    "    \"\"\"\n",
    "    model = Sequential()\n",
    "    model.add(Conv2D(32, (3, 3), input_shape=(input_shape, input_shape,3), activation='relu', padding='same'))\n",
    "    model.add(Dropout(0.2))\n",
    "    model.add(Conv2D(32, (3, 3), activation='relu', padding='same'))\n",
    "    model.add(MaxPooling2D(pool_size=(2, 2)))\n",
    "    model.add(Conv2D(64, (3, 3), activation='relu', padding='same'))\n",
    "    model.add(Dropout(0.2))\n",
    "    model.add(Conv2D(64, (3, 3), activation='relu', padding='same'))\n",
    "    model.add(AveragePooling2D(pool_size=(2,2),strides=1))\n",
    "    model.add(Conv2D(128, (3, 3), activation='relu', padding='same'))\n",
    "    model.add(Dropout(0.2))\n",
    "    model.add(Conv2D(128, (3, 3), activation='relu', padding='same'))\n",
    "    model.add(MaxPooling2D(pool_size=(2, 2)))\n",
    "    model.add(Flatten())\n",
    "    model.add(Dropout(0.2))\n",
    "    model.add(Dense(1024, activation='relu', kernel_constraint=maxnorm(3)))\n",
    "    model.add(Dropout(0.2))\n",
    "    model.add(Dense(512, activation='relu', kernel_constraint=maxnorm(3)))\n",
    "    model.add(Dropout(0.2))\n",
    "    model.add(Dense(1, activation='sigmoid'))\n",
    "    epochs = 25\n",
    "    lrate = 0.01\n",
    "    decay = lrate/epochs\n",
    "    model.compile(loss='binary_crossentropy', optimizer='adam', metrics=['accuracy'])\n",
    "    print(model.summary())\n",
    "    return model\n",
    "\n",
    "def simple_net(num_classes,input_shape):\n",
    "    model = Sequential()\n",
    "    model.add(Conv2D(32, 3, 3, activation='tanh', input_shape=(input_shape,input_shape,3)))\n",
    "    model.add(Conv2D(32, 3, 3, activation='tanh'))\n",
    "    model.add(MaxPooling2D(pool_size=(2,2)))\n",
    "#     model.add(Dropout(0.25))\n",
    "\n",
    "    model.add(Flatten())\n",
    "    model.add(Dense(128, activation='tanh'))\n",
    "#     model.add(Dropout(0.5))\n",
    "    model.add(Dense(1, activation='sigmoid'))\n",
    "\n",
    "    model.compile(loss='binary_crossentropy',\n",
    "              optimizer='adam',\n",
    "              metrics=['accuracy'])\n",
    "    return model"
   ]
  },
  {
   "cell_type": "code",
   "execution_count": 18,
   "metadata": {
    "collapsed": true
   },
   "outputs": [],
   "source": [
    "img_width, img_height = 64, 64\n",
    "\n",
    "train_data_dir = '/home/bohdan/xray_project/data/train'\n",
    "validation_data_dir = '/home/bohdan/xray_project/data/val'\n",
    "nb_train_samples = 1000\n",
    "nb_validation_samples = 500\n",
    "epochs = 5\n",
    "batch_size = 100\n",
    "\n",
    "if K.image_data_format() == 'channels_first':\n",
    "    input_shape = (3, img_width, img_height)\n",
    "else:\n",
    "    input_shape = (img_width, img_height, 3)"
   ]
  },
  {
   "cell_type": "code",
   "execution_count": 19,
   "metadata": {
    "collapsed": true
   },
   "outputs": [],
   "source": [
    "# this is the augmentation configuration we will use for training\n",
    "train_datagen = ImageDataGenerator(\n",
    "    rescale=1. / 255,\n",
    "#     shear_range=0.2,\n",
    "#     zoom_range=0.2,\n",
    "# horizontal_flip=True\n",
    ")"
   ]
  },
  {
   "cell_type": "code",
   "execution_count": 20,
   "metadata": {
    "collapsed": true
   },
   "outputs": [],
   "source": [
    "test_datagen = ImageDataGenerator(\n",
    "#     rescale=1. / 255\n",
    ")"
   ]
  },
  {
   "cell_type": "code",
   "execution_count": 21,
   "metadata": {},
   "outputs": [
    {
     "name": "stdout",
     "output_type": "stream",
     "text": [
      "Found 4000 images belonging to 2 classes.\n"
     ]
    }
   ],
   "source": [
    "train_generator = train_datagen.flow_from_directory(\n",
    "                                                    train_data_dir,\n",
    "                                                    target_size=(img_width, img_height),\n",
    "                                                    batch_size=batch_size,\n",
    "                                                    class_mode='binary'\n",
    ")"
   ]
  },
  {
   "cell_type": "code",
   "execution_count": 22,
   "metadata": {},
   "outputs": [
    {
     "name": "stdout",
     "output_type": "stream",
     "text": [
      "Found 999 images belonging to 2 classes.\n"
     ]
    }
   ],
   "source": [
    "validation_generator = test_datagen.flow_from_directory(\n",
    "                                                        validation_data_dir,\n",
    "                                                        target_size=(img_width, img_height),\n",
    "                                                        batch_size=batch_size,\n",
    "                                                        class_mode='binary')"
   ]
  },
  {
   "cell_type": "code",
   "execution_count": 28,
   "metadata": {
    "collapsed": true
   },
   "outputs": [],
   "source": [
    "import pickle\n",
    "import numpy as np\n",
    "import keras\n",
    "import matplotlib.pyplot as plt\n",
    "from keras.models import Sequential\n",
    "from keras.layers import Dense, Dropout, Activation, Flatten, Conv2D, MaxPool2D, Conv1D\n",
    "from keras.layers import Convolution2D,MaxPooling2D\n",
    "from keras.optimizers import SGD, Adam,Adagrad,RMSprop\n",
    "from keras.preprocessing.image import ImageDataGenerator\n",
    "from sklearn.model_selection import train_test_split\n",
    "from keras.utils import to_categorical\n",
    "from sklearn.metrics import confusion_matrix\n",
    "seed = 7\n",
    "np.random.seed(seed)"
   ]
  },
  {
   "cell_type": "code",
   "execution_count": 86,
   "metadata": {
    "collapsed": true
   },
   "outputs": [],
   "source": [
    "def LeNet5(img_width, img_height, img_depth):\n",
    "    \"\"\"\n",
    "    Returns compiled LeNet5 model.\n",
    "    \n",
    "    Args:\n",
    "         - img_width: width of the image;\n",
    "         - img_height: height of the image;\n",
    "         - img_depth: number of channels of the image.\n",
    "         \n",
    "    Returns: \n",
    "         - compiled model.\n",
    "         \n",
    "    \"\"\"\n",
    "    model = Sequential()\n",
    "    model.add(Conv2D(16,(5,5), input_shape = (img_height,img_width,img_depth), activation='relu'))\n",
    "    model.add(MaxPool2D(pool_size=(2,2)))\n",
    "    \n",
    "    model.add(Conv2D(32,(5,5), activation='relu')) # used tanh activation as in the original\n",
    "    model.add(MaxPool2D(pool_size=(2,2)))\n",
    "    \n",
    "    model.add(Conv2D(300,(5,5), activation='relu'))\n",
    "\n",
    "    model.add(Flatten())\n",
    "    model.add(Dense(300, activation='relu'))\n",
    "    model.add(Dense(1,activation='sigmoid'))\n",
    "\n",
    "#     opt = Adam(lr=0.01, beta_1=0.9, beta_2=0.999, epsilon=1e-08, decay=0.0) #0.8320\n",
    "\n",
    "    model.compile(loss=\"binary_crossentropy\", optimizer='adam',metrics=['accuracy']) # used binary_crossentropy as\n",
    "                                                                                # we have only 2 classes not 10.\n",
    "    return model"
   ]
  },
  {
   "cell_type": "code",
   "execution_count": 82,
   "metadata": {},
   "outputs": [],
   "source": [
    "def create_baseline(img_height,img_width,img_depth):\n",
    "    # create model\n",
    "    model = Sequential()\n",
    "    model.add(Conv2D(6,(5,5), input_shape = (img_height,img_width,img_depth), activation='relu'))\n",
    "\n",
    "#     model.add(Dense(100, kernel_initializer='normal', activation='relu'))\n",
    "    \n",
    "    model.add(Dense(1, kernel_initializer='normal', activation='sigmoid'))\n",
    "    # Compile model. We use the the logarithmic loss function, and the Adam gradient optimizer.\n",
    "    model.compile(loss='binary_crossentropy', optimizer='adam', metrics=['accuracy'])\n",
    "    return model"
   ]
  },
  {
   "cell_type": "code",
   "execution_count": 87,
   "metadata": {},
   "outputs": [],
   "source": [
    "model = LeNet5(64,64,3)"
   ]
  },
  {
   "cell_type": "code",
   "execution_count": 89,
   "metadata": {
    "scrolled": false
   },
   "outputs": [
    {
     "name": "stdout",
     "output_type": "stream",
     "text": [
      "Epoch 1/100\n",
      "10/10 [==============================] - 16s - loss: 0.6765 - acc: 0.5970 - val_loss: 7.4121 - val_acc: 0.5351\n",
      "Epoch 2/100\n",
      "10/10 [==============================] - 15s - loss: 0.7012 - acc: 0.5360 - val_loss: 6.4571 - val_acc: 0.5500\n",
      "Epoch 3/100\n",
      "10/10 [==============================] - 15s - loss: 0.6910 - acc: 0.5290 - val_loss: 7.3801 - val_acc: 0.5371\n",
      "Epoch 4/100\n",
      "10/10 [==============================] - 15s - loss: 0.6855 - acc: 0.5560 - val_loss: 7.3016 - val_acc: 0.5420\n",
      "Epoch 5/100\n",
      "10/10 [==============================] - 15s - loss: 0.6884 - acc: 0.5330 - val_loss: 5.8586 - val_acc: 0.5411\n",
      "Epoch 6/100\n",
      "10/10 [==============================] - 15s - loss: 0.6768 - acc: 0.5440 - val_loss: 6.9900 - val_acc: 0.5480\n",
      "Epoch 7/100\n",
      "10/10 [==============================] - 15s - loss: 0.6699 - acc: 0.5880 - val_loss: 5.5928 - val_acc: 0.6052\n",
      "Epoch 8/100\n",
      "10/10 [==============================] - 15s - loss: 0.6606 - acc: 0.6290 - val_loss: 5.8437 - val_acc: 0.6240\n",
      "Epoch 9/100\n",
      "10/10 [==============================] - 15s - loss: 0.6657 - acc: 0.6040 - val_loss: 6.2056 - val_acc: 0.5852\n",
      "Epoch 10/100\n",
      "10/10 [==============================] - 15s - loss: 0.6736 - acc: 0.5930 - val_loss: 6.0332 - val_acc: 0.6080\n",
      "Epoch 11/100\n",
      "10/10 [==============================] - 15s - loss: 0.6643 - acc: 0.5900 - val_loss: 6.2749 - val_acc: 0.5932\n",
      "Epoch 12/100\n",
      "10/10 [==============================] - 15s - loss: 0.6478 - acc: 0.6420 - val_loss: 5.9531 - val_acc: 0.6200\n",
      "Epoch 13/100\n",
      "10/10 [==============================] - 15s - loss: 0.6803 - acc: 0.5890 - val_loss: 5.6829 - val_acc: 0.6052\n",
      "Epoch 14/100\n",
      "10/10 [==============================] - 15s - loss: 0.6704 - acc: 0.5990 - val_loss: 6.6095 - val_acc: 0.5560\n",
      "Epoch 15/100\n",
      "10/10 [==============================] - 15s - loss: 0.6387 - acc: 0.6590 - val_loss: 6.2051 - val_acc: 0.6052\n",
      "Epoch 16/100\n",
      "10/10 [==============================] - 15s - loss: 0.6546 - acc: 0.6250 - val_loss: 5.8672 - val_acc: 0.6200\n",
      "Epoch 17/100\n",
      "10/10 [==============================] - 15s - loss: 0.6483 - acc: 0.6240 - val_loss: 5.2025 - val_acc: 0.6573\n",
      "Epoch 18/100\n",
      "10/10 [==============================] - 15s - loss: 0.6565 - acc: 0.6160 - val_loss: 5.2611 - val_acc: 0.6620\n",
      "Epoch 19/100\n",
      "10/10 [==============================] - 15s - loss: 0.6565 - acc: 0.6160 - val_loss: 5.9259 - val_acc: 0.6152\n",
      "Epoch 20/100\n",
      "10/10 [==============================] - 16s - loss: 0.6533 - acc: 0.6280 - val_loss: 6.2564 - val_acc: 0.6020\n",
      "Epoch 21/100\n",
      "10/10 [==============================] - 15s - loss: 0.6607 - acc: 0.6250 - val_loss: 6.8055 - val_acc: 0.5551\n",
      "Epoch 22/100\n",
      "10/10 [==============================] - 15s - loss: 0.6580 - acc: 0.6300 - val_loss: 5.3434 - val_acc: 0.6500\n",
      "Epoch 23/100\n",
      "10/10 [==============================] - 15s - loss: 0.6604 - acc: 0.6200 - val_loss: 5.0761 - val_acc: 0.6553\n",
      "Epoch 24/100\n",
      "10/10 [==============================] - 15s - loss: 0.6458 - acc: 0.6530 - val_loss: 5.9208 - val_acc: 0.6120\n",
      "Epoch 25/100\n",
      "10/10 [==============================] - 15s - loss: 0.6453 - acc: 0.6350 - val_loss: 6.1811 - val_acc: 0.6052\n",
      "Epoch 26/100\n",
      "10/10 [==============================] - 15s - loss: 0.6435 - acc: 0.6360 - val_loss: 5.7642 - val_acc: 0.6220\n",
      "Epoch 27/100\n",
      "10/10 [==============================] - 15s - loss: 0.6447 - acc: 0.6310 - val_loss: 5.4624 - val_acc: 0.6393\n",
      "Epoch 28/100\n",
      "10/10 [==============================] - 15s - loss: 0.6334 - acc: 0.6430 - val_loss: 5.1670 - val_acc: 0.6700\n",
      "Epoch 29/100\n",
      "10/10 [==============================] - 15s - loss: 0.6403 - acc: 0.6450 - val_loss: 5.9307 - val_acc: 0.6152\n",
      "Epoch 30/100\n",
      "10/10 [==============================] - 15s - loss: 0.6339 - acc: 0.6550 - val_loss: 6.4894 - val_acc: 0.5820\n",
      "Epoch 31/100\n",
      "10/10 [==============================] - 16s - loss: 0.6567 - acc: 0.6420 - val_loss: 5.6473 - val_acc: 0.6273\n",
      "Epoch 32/100\n",
      "10/10 [==============================] - 15s - loss: 0.6366 - acc: 0.6400 - val_loss: 5.5272 - val_acc: 0.6460\n",
      "Epoch 33/100\n",
      "10/10 [==============================] - 15s - loss: 0.6328 - acc: 0.6420 - val_loss: 5.9160 - val_acc: 0.6072\n",
      "Epoch 34/100\n",
      "10/10 [==============================] - 15s - loss: 0.6426 - acc: 0.6600 - val_loss: 5.7856 - val_acc: 0.6160\n",
      "Epoch 35/100\n",
      "10/10 [==============================] - 15s - loss: 0.6488 - acc: 0.6210 - val_loss: 6.3123 - val_acc: 0.5912\n",
      "Epoch 36/100\n",
      "10/10 [==============================] - 15s - loss: 0.6489 - acc: 0.6240 - val_loss: 6.6087 - val_acc: 0.5740\n",
      "Epoch 37/100\n",
      "10/10 [==============================] - 15s - loss: 0.6359 - acc: 0.6450 - val_loss: 5.3331 - val_acc: 0.6533\n",
      "Epoch 38/100\n",
      "10/10 [==============================] - 15s - loss: 0.6283 - acc: 0.6610 - val_loss: 5.9110 - val_acc: 0.6140\n",
      "Epoch 39/100\n",
      "10/10 [==============================] - 15s - loss: 0.6321 - acc: 0.6430 - val_loss: 5.5609 - val_acc: 0.6433\n",
      "Epoch 40/100\n",
      "10/10 [==============================] - 15s - loss: 0.6120 - acc: 0.6750 - val_loss: 6.1420 - val_acc: 0.6060\n",
      "Epoch 41/100\n",
      "10/10 [==============================] - 15s - loss: 0.6404 - acc: 0.6320 - val_loss: 5.8013 - val_acc: 0.6273\n",
      "Epoch 42/100\n",
      "10/10 [==============================] - 15s - loss: 0.6311 - acc: 0.6520 - val_loss: 5.6560 - val_acc: 0.6420\n",
      "Epoch 43/100\n",
      "10/10 [==============================] - 15s - loss: 0.6348 - acc: 0.6380 - val_loss: 5.5562 - val_acc: 0.6293\n",
      "Epoch 44/100\n",
      "10/10 [==============================] - 15s - loss: 0.6077 - acc: 0.6810 - val_loss: 5.9094 - val_acc: 0.6180\n",
      "Epoch 45/100\n",
      "10/10 [==============================] - 15s - loss: 0.6386 - acc: 0.6450 - val_loss: 6.5779 - val_acc: 0.5731\n",
      "Epoch 46/100\n",
      "10/10 [==============================] - 15s - loss: 0.6496 - acc: 0.6170 - val_loss: 6.7553 - val_acc: 0.5740\n",
      "Epoch 47/100\n",
      "10/10 [==============================] - 15s - loss: 0.6437 - acc: 0.6490 - val_loss: 6.9750 - val_acc: 0.5551\n",
      "Epoch 48/100\n",
      "10/10 [==============================] - 15s - loss: 0.6334 - acc: 0.6370 - val_loss: 5.9144 - val_acc: 0.6180\n",
      "Epoch 49/100\n",
      "10/10 [==============================] - 15s - loss: 0.6316 - acc: 0.6540 - val_loss: 6.8219 - val_acc: 0.5631\n",
      "Epoch 50/100\n",
      "10/10 [==============================] - 15s - loss: 0.6201 - acc: 0.6660 - val_loss: 5.6347 - val_acc: 0.6400\n",
      "Epoch 51/100\n",
      "10/10 [==============================] - 15s - loss: 0.6293 - acc: 0.6460 - val_loss: 6.6240 - val_acc: 0.5772\n",
      "Epoch 52/100\n",
      "10/10 [==============================] - 15s - loss: 0.6006 - acc: 0.6800 - val_loss: 5.8437 - val_acc: 0.6240\n",
      "Epoch 53/100\n",
      "10/10 [==============================] - 15s - loss: 0.6196 - acc: 0.6480 - val_loss: 6.4809 - val_acc: 0.5872\n",
      "Epoch 54/100\n",
      "10/10 [==============================] - 15s - loss: 0.6176 - acc: 0.6620 - val_loss: 6.3380 - val_acc: 0.5900\n",
      "Epoch 55/100\n",
      "10/10 [==============================] - 15s - loss: 0.6235 - acc: 0.6550 - val_loss: 6.0546 - val_acc: 0.6092\n",
      "Epoch 56/100\n",
      "10/10 [==============================] - 15s - loss: 0.6121 - acc: 0.6700 - val_loss: 5.9601 - val_acc: 0.6160\n",
      "Epoch 57/100\n",
      "10/10 [==============================] - 15s - loss: 0.6147 - acc: 0.6780 - val_loss: 6.0177 - val_acc: 0.6192\n",
      "Epoch 58/100\n",
      "10/10 [==============================] - 15s - loss: 0.6187 - acc: 0.6530 - val_loss: 5.6921 - val_acc: 0.6320\n",
      "Epoch 59/100\n",
      "10/10 [==============================] - 15s - loss: 0.6247 - acc: 0.6490 - val_loss: 6.2887 - val_acc: 0.5852\n",
      "Epoch 60/100\n",
      "10/10 [==============================] - 15s - loss: 0.6019 - acc: 0.6740 - val_loss: 6.2660 - val_acc: 0.6000\n",
      "Epoch 61/100\n",
      "10/10 [==============================] - 15s - loss: 0.6227 - acc: 0.6550 - val_loss: 5.9599 - val_acc: 0.6112\n",
      "Epoch 62/100\n",
      "10/10 [==============================] - 15s - loss: 0.6322 - acc: 0.6550 - val_loss: 6.0350 - val_acc: 0.6100\n",
      "Epoch 63/100\n",
      "10/10 [==============================] - 15s - loss: 0.6107 - acc: 0.6770 - val_loss: 5.5621 - val_acc: 0.6333\n",
      "Epoch 64/100\n",
      "10/10 [==============================] - 15s - loss: 0.6181 - acc: 0.6600 - val_loss: 5.7176 - val_acc: 0.6220\n",
      "Epoch 65/100\n",
      "10/10 [==============================] - 15s - loss: 0.6176 - acc: 0.6560 - val_loss: 5.6760 - val_acc: 0.6313\n",
      "Epoch 66/100\n",
      "10/10 [==============================] - 15s - loss: 0.6181 - acc: 0.6600 - val_loss: 5.9020 - val_acc: 0.6080\n",
      "Epoch 67/100\n"
     ]
    },
    {
     "name": "stdout",
     "output_type": "stream",
     "text": [
      "10/10 [==============================] - 15s - loss: 0.6086 - acc: 0.6730 - val_loss: 6.5586 - val_acc: 0.5792\n",
      "Epoch 68/100\n",
      "10/10 [==============================] - 15s - loss: 0.5984 - acc: 0.6680 - val_loss: 6.5566 - val_acc: 0.5720\n",
      "Epoch 69/100\n",
      "10/10 [==============================] - 15s - loss: 0.6093 - acc: 0.6630 - val_loss: 5.2346 - val_acc: 0.6633\n",
      "Epoch 70/100\n",
      "10/10 [==============================] - 15s - loss: 0.6047 - acc: 0.6670 - val_loss: 6.2274 - val_acc: 0.6000\n",
      "Epoch 71/100\n",
      "10/10 [==============================] - 15s - loss: 0.6123 - acc: 0.6720 - val_loss: 6.3784 - val_acc: 0.5852\n",
      "Epoch 72/100\n",
      "10/10 [==============================] - 15s - loss: 0.5981 - acc: 0.6800 - val_loss: 6.2640 - val_acc: 0.5940\n",
      "Epoch 73/100\n",
      "10/10 [==============================] - 15s - loss: 0.6073 - acc: 0.6640 - val_loss: 6.3461 - val_acc: 0.5892\n",
      "Epoch 74/100\n",
      "10/10 [==============================] - 15s - loss: 0.5939 - acc: 0.6810 - val_loss: 6.0224 - val_acc: 0.6020\n",
      "Epoch 75/100\n",
      "10/10 [==============================] - 15s - loss: 0.6128 - acc: 0.6680 - val_loss: 6.8777 - val_acc: 0.5591\n",
      "Epoch 76/100\n",
      "10/10 [==============================] - 16s - loss: 0.6070 - acc: 0.6810 - val_loss: 6.4319 - val_acc: 0.5900\n",
      "Epoch 77/100\n",
      "10/10 [==============================] - 15s - loss: 0.6201 - acc: 0.6590 - val_loss: 6.9641 - val_acc: 0.5571\n",
      "Epoch 78/100\n",
      "10/10 [==============================] - 16s - loss: 0.6018 - acc: 0.6780 - val_loss: 6.8181 - val_acc: 0.5660\n",
      "Epoch 79/100\n",
      "10/10 [==============================] - 16s - loss: 0.6135 - acc: 0.6580 - val_loss: 5.4065 - val_acc: 0.6453\n",
      "Epoch 80/100\n",
      "10/10 [==============================] - 16s - loss: 0.6070 - acc: 0.6770 - val_loss: 5.9075 - val_acc: 0.6200\n",
      "Epoch 81/100\n",
      "10/10 [==============================] - 16s - loss: 0.5872 - acc: 0.6960 - val_loss: 6.1058 - val_acc: 0.6072\n",
      "Epoch 82/100\n",
      "10/10 [==============================] - 17s - loss: 0.5912 - acc: 0.6830 - val_loss: 5.9851 - val_acc: 0.6100\n",
      "Epoch 83/100\n",
      "10/10 [==============================] - 25s - loss: 0.5964 - acc: 0.6910 - val_loss: 5.3923 - val_acc: 0.6493\n",
      "Epoch 84/100\n",
      "10/10 [==============================] - 17s - loss: 0.5779 - acc: 0.7080 - val_loss: 6.5092 - val_acc: 0.5820\n",
      "Epoch 85/100\n",
      "10/10 [==============================] - 18s - loss: 0.6015 - acc: 0.6720 - val_loss: 6.8910 - val_acc: 0.5551\n",
      "Epoch 86/100\n",
      "10/10 [==============================] - 17s - loss: 0.6170 - acc: 0.6520 - val_loss: 6.5914 - val_acc: 0.5820\n",
      "Epoch 87/100\n",
      "10/10 [==============================] - 15s - loss: 0.5853 - acc: 0.6870 - val_loss: 6.4415 - val_acc: 0.5852\n",
      "Epoch 88/100\n",
      "10/10 [==============================] - 17s - loss: 0.5910 - acc: 0.6850 - val_loss: 6.2718 - val_acc: 0.5860\n",
      "Epoch 89/100\n",
      "10/10 [==============================] - 16s - loss: 0.5923 - acc: 0.6680 - val_loss: 6.1491 - val_acc: 0.6012\n",
      "Epoch 90/100\n",
      "10/10 [==============================] - 16s - loss: 0.6006 - acc: 0.6820 - val_loss: 6.6714 - val_acc: 0.5480\n",
      "Epoch 91/100\n",
      "10/10 [==============================] - 16s - loss: 0.6133 - acc: 0.6710 - val_loss: 5.4858 - val_acc: 0.6413\n",
      "Epoch 92/100\n",
      "10/10 [==============================] - 16s - loss: 0.5815 - acc: 0.7020 - val_loss: 6.0773 - val_acc: 0.5940\n",
      "Epoch 93/100\n",
      "10/10 [==============================] - 16s - loss: 0.5738 - acc: 0.7030 - val_loss: 6.0934 - val_acc: 0.6092\n",
      "Epoch 94/100\n",
      "10/10 [==============================] - 16s - loss: 0.5768 - acc: 0.6780 - val_loss: 5.7884 - val_acc: 0.6300\n",
      "Epoch 95/100\n",
      "10/10 [==============================] - 17s - loss: 0.5770 - acc: 0.7050 - val_loss: 6.4349 - val_acc: 0.5852\n",
      "Epoch 96/100\n",
      "10/10 [==============================] - 16s - loss: 0.5722 - acc: 0.6880 - val_loss: 6.6094 - val_acc: 0.5700\n",
      "Epoch 97/100\n",
      "10/10 [==============================] - 17s - loss: 0.5652 - acc: 0.7250 - val_loss: 5.7910 - val_acc: 0.6172\n",
      "Epoch 98/100\n",
      "10/10 [==============================] - 17s - loss: 0.5686 - acc: 0.7070 - val_loss: 5.7099 - val_acc: 0.6240\n",
      "Epoch 99/100\n",
      "10/10 [==============================] - 16s - loss: 0.5677 - acc: 0.6970 - val_loss: 5.9573 - val_acc: 0.6092\n",
      "Epoch 100/100\n",
      "10/10 [==============================] - 16s - loss: 0.5489 - acc: 0.7050 - val_loss: 5.7851 - val_acc: 0.6180\n"
     ]
    },
    {
     "data": {
      "text/plain": [
       "<keras.callbacks.History at 0x7f15cfb78a50>"
      ]
     },
     "execution_count": 89,
     "metadata": {},
     "output_type": "execute_result"
    }
   ],
   "source": [
    "model.fit_generator(\n",
    "    train_generator,\n",
    "    steps_per_epoch=nb_train_samples // batch_size,\n",
    "    epochs=100,\n",
    "    validation_data=validation_generator,\n",
    "validation_steps=nb_validation_samples // batch_size)"
   ]
  },
  {
   "cell_type": "code",
   "execution_count": null,
   "metadata": {
    "collapsed": true,
    "scrolled": false
   },
   "outputs": [],
   "source": [
    "x_tr, y_tr = datagen.flow(train, train, batch_size=32)"
   ]
  },
  {
   "cell_type": "code",
   "execution_count": null,
   "metadata": {
    "collapsed": true
   },
   "outputs": [],
   "source": []
  },
  {
   "cell_type": "code",
   "execution_count": null,
   "metadata": {
    "collapsed": true
   },
   "outputs": [],
   "source": []
  },
  {
   "cell_type": "code",
   "execution_count": null,
   "metadata": {
    "collapsed": true
   },
   "outputs": [],
   "source": []
  },
  {
   "cell_type": "code",
   "execution_count": null,
   "metadata": {
    "collapsed": true
   },
   "outputs": [],
   "source": []
  },
  {
   "cell_type": "code",
   "execution_count": null,
   "metadata": {
    "collapsed": true
   },
   "outputs": [],
   "source": []
  }
 ],
 "metadata": {
  "kernelspec": {
   "display_name": "Python 2",
   "language": "python",
   "name": "python2"
  },
  "language_info": {
   "codemirror_mode": {
    "name": "ipython",
    "version": 2
   },
   "file_extension": ".py",
   "mimetype": "text/x-python",
   "name": "python",
   "nbconvert_exporter": "python",
   "pygments_lexer": "ipython2",
   "version": "2.7.13"
  }
 },
 "nbformat": 4,
 "nbformat_minor": 2
}
